{
  "nbformat": 4,
  "nbformat_minor": 0,
  "metadata": {
    "colab": {
      "name": "Untitled0.ipynb",
      "provenance": [],
      "collapsed_sections": []
    },
    "kernelspec": {
      "name": "python3",
      "display_name": "Python 3"
    }
  },
  "cells": [
    {
      "cell_type": "code",
      "metadata": {
        "id": "sXM1FvCNI5gP",
        "colab_type": "code",
        "outputId": "f19d8c67-2733-4a80-dda1-194756601841",
        "colab": {
          "base_uri": "https://localhost:8080/",
          "height": 34
        }
      },
      "source": [
        "from google.colab import drive\n",
        "drive.mount('/content/drive')"
      ],
      "execution_count": 19,
      "outputs": [
        {
          "output_type": "stream",
          "text": [
            "Drive already mounted at /content/drive; to attempt to forcibly remount, call drive.mount(\"/content/drive\", force_remount=True).\n"
          ],
          "name": "stdout"
        }
      ]
    },
    {
      "cell_type": "code",
      "metadata": {
        "id": "P7zFa5RK-7XZ",
        "colab_type": "code",
        "outputId": "0a13d319-43d8-4b1d-9cb4-37b1e7e0148d",
        "colab": {
          "base_uri": "https://localhost:8080/",
          "height": 84
        }
      },
      "source": [
        "import matplotlib.pyplot as plt\n",
        "import tensorflow as tf\n",
        "%tensorflow_version\n",
        "from tensorflow.keras.preprocessing.image import ImageDataGenerator\n",
        "import math\n",
        "import os\n",
        "import numpy as np\n",
        "import gzip\n",
        "def load_mnist(path,kind='train'):\n",
        "    labels_path = os.path.join(path, '%s-labels-idx1-ubyte.gz' % kind)\n",
        "    images_path = os.path.join(path, '%s-images-idx3-ubyte.gz' % kind)\n",
        "    with gzip.open(labels_path, 'rb') as lbpath:\n",
        "        lbpath.read(8)\n",
        "        buffer = lbpath.read()\n",
        "        labels = np.frombuffer(buffer, dtype=np.uint8)\n",
        "    with gzip.open(images_path, 'rb') as imgpath:\n",
        "        imgpath.read(16)\n",
        "        buffer = imgpath.read()\n",
        "        images = np.frombuffer(buffer, dtype=np.uint8).reshape(len(labels), 28,\n",
        "        28).astype(np.float64)\n",
        "    return images, labels\n",
        "\n",
        "X_train, y_train = load_mnist('/content/drive/My Drive/Colab/my_data/', kind='train')\n",
        "X_test, y_test = load_mnist('/content/drive/My Drive/Colab/my_data/', kind='t10k')\n",
        "class_names = ['0','1','2','3','4','5','6','7','8','9']\n",
        "num_classes = len(class_names)\n",
        "\n",
        "num_train = len(X_train)\n",
        "num_test = len(X_test)\n",
        "X_train = X_train / 255\n",
        "X_train = X_train.reshape((num_train, 28, 28, 1))\n",
        "X_test = X_test / 255\n",
        "X_test = X_test.reshape((num_test, 28, 28, 1))"
      ],
      "execution_count": 20,
      "outputs": [
        {
          "output_type": "stream",
          "text": [
            "Currently selected TF version: 1.x\n",
            "Available versions:\n",
            "* 1.x\n",
            "* 2.x\n"
          ],
          "name": "stdout"
        }
      ]
    },
    {
      "cell_type": "code",
      "metadata": {
        "id": "WYdgqddEBmeR",
        "colab_type": "code",
        "colab": {}
      },
      "source": [
        "model = tf.keras.Sequential([\n",
        "    tf.keras.layers.Flatten(input_shape=(28, 28, 1)),\n",
        "    tf.keras.layers.Dense(128, activation=tf.nn.relu),\n",
        "    tf.keras.layers.Dense(num_classes, activation=tf.nn.softmax)\n",
        "])\n",
        "model.compile(optimizer='adam',\n",
        "              loss='sparse_categorical_crossentropy',\n",
        "              metrics=['accuracy'])\n",
        "\n",
        "BATCH_SIZE = 32\n",
        "train_datagen = ImageDataGenerator()\n",
        "train_generator = train_datagen.flow(X_train, y_train, shuffle=True, batch_size=BATCH_SIZE)\n",
        "test_datagen = ImageDataGenerator()\n",
        "test_generator = test_datagen.flow(X_test, y_test, shuffle=False, batch_size=BATCH_SIZE)"
      ],
      "execution_count": 0,
      "outputs": []
    },
    {
      "cell_type": "code",
      "metadata": {
        "id": "5ftFeX2oCAjW",
        "colab_type": "code",
        "outputId": "c9f7e4ca-6dc0-4555-d6dc-55c6798ea882",
        "colab": {
          "base_uri": "https://localhost:8080/",
          "height": 202
        }
      },
      "source": [
        "model.fit_generator(train_generator, epochs=5, steps_per_epoch=math.ceil(num_train/BATCH_SIZE))"
      ],
      "execution_count": 22,
      "outputs": [
        {
          "output_type": "stream",
          "text": [
            "Epoch 1/5\n",
            "1875/1875 [==============================] - 7s 4ms/step - loss: 0.2568 - acc: 0.9263\n",
            "Epoch 2/5\n",
            "1875/1875 [==============================] - 7s 4ms/step - loss: 0.1135 - acc: 0.9662\n",
            "Epoch 3/5\n",
            "1875/1875 [==============================] - 7s 4ms/step - loss: 0.0777 - acc: 0.9765\n",
            "Epoch 4/5\n",
            "1875/1875 [==============================] - 7s 4ms/step - loss: 0.0583 - acc: 0.9822\n",
            "Epoch 5/5\n",
            "1875/1875 [==============================] - 7s 4ms/step - loss: 0.0464 - acc: 0.9854\n"
          ],
          "name": "stdout"
        },
        {
          "output_type": "execute_result",
          "data": {
            "text/plain": [
              "<tensorflow.python.keras.callbacks.History at 0x7f9db1df7d68>"
            ]
          },
          "metadata": {
            "tags": []
          },
          "execution_count": 22
        }
      ]
    },
    {
      "cell_type": "code",
      "metadata": {
        "id": "ZxU8N8FDC6H9",
        "colab_type": "code",
        "outputId": "76b48335-9876-40bd-8290-f37ce3e691bc",
        "colab": {
          "base_uri": "https://localhost:8080/",
          "height": 50
        }
      },
      "source": [
        "test_loss, test_accuracy = model.evaluate(test_generator, steps=math.ceil(num_test/32))\n",
        "print('Accuracy on test dataset:', test_accuracy)"
      ],
      "execution_count": 23,
      "outputs": [
        {
          "output_type": "stream",
          "text": [
            "313/313 [==============================] - 1s 2ms/step - loss: 0.0754 - acc: 0.9781\n",
            "Accuracy on test dataset: 0.9781\n"
          ],
          "name": "stdout"
        }
      ]
    },
    {
      "cell_type": "code",
      "metadata": {
        "id": "q8kHcjV5S9wr",
        "colab_type": "code",
        "outputId": "fe29b680-27b7-46b1-fc3c-b51d7c5e117e",
        "colab": {
          "base_uri": "https://localhost:8080/",
          "height": 34
        }
      },
      "source": [
        "predictions = model.predict(test_generator)\n",
        "predictions.shape"
      ],
      "execution_count": 24,
      "outputs": [
        {
          "output_type": "execute_result",
          "data": {
            "text/plain": [
              "(10000, 10)"
            ]
          },
          "metadata": {
            "tags": []
          },
          "execution_count": 24
        }
      ]
    },
    {
      "cell_type": "code",
      "metadata": {
        "id": "DhaO9v_STHMM",
        "colab_type": "code",
        "outputId": "b2ae80db-b771-4ef3-b453-44b7832241b4",
        "colab": {
          "base_uri": "https://localhost:8080/",
          "height": 298
        }
      },
      "source": [
        "def show(x):\n",
        "  image = X_test[x]\n",
        "  pixels = image.reshape((28, 28))\n",
        "  plt.imshow(pixels, cmap='gray')\n",
        "  plt.show()\n",
        "  print(\"predict:\", np.argmax(predictions[x]))\n",
        "  print(\"answer:\", y_test[x])\n",
        "show(4)"
      ],
      "execution_count": 41,
      "outputs": [
        {
          "output_type": "display_data",
          "data": {
            "image/png": "[encoded data removed]",
            "text/plain": [
              "<Figure size 432x288 with 1 Axes>"
            ]
          },
          "metadata": {
            "tags": []
          }
        },
        {
          "output_type": "stream",
          "text": [
            "predict: 4\n",
            "answer: 4\n"
          ],
          "name": "stdout"
        }
      ]
    },
    {
      "cell_type": "code",
      "metadata": {
        "id": "1QgFtErtaF7R",
        "colab_type": "code",
        "colab": {}
      },
      "source": [
        ""
      ],
      "execution_count": 0,
      "outputs": []
    }
  ]
}