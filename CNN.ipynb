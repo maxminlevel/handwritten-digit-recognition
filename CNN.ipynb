{
  "nbformat": 4,
  "nbformat_minor": 0,
  "metadata": {
    "colab": {
      "name": "Untitled0.ipynb",
      "provenance": [],
      "collapsed_sections": []
    },
    "kernelspec": {
      "name": "python3",
      "display_name": "Python 3"
    }
  },
  "cells": [
    {
      "cell_type": "code",
      "metadata": {
        "id": "sXM1FvCNI5gP",
        "colab_type": "code",
        "outputId": "cad8166a-af11-4927-eed5-2c50a28c7acd",
        "colab": {
          "base_uri": "https://localhost:8080/",
          "height": 121
        }
      },
      "source": [
        "from google.colab import drive\n",
        "drive.mount('/content/drive')"
      ],
      "execution_count": 0,
      "outputs": [
        {
          "output_type": "stream",
          "text": [
            "Go to this URL in a browser: https://accounts.google.com/o/oauth2/auth?client_id=947318989803-6bn6qk8qdgf4n4g3pfee6491hc0brc4i.apps.googleusercontent.com&redirect_uri=urn%3aietf%3awg%3aoauth%3a2.0%3aoob&response_type=code&scope=email%20https%3a%2f%2fwww.googleapis.com%2fauth%2fdocs.test%20https%3a%2f%2fwww.googleapis.com%2fauth%2fdrive%20https%3a%2f%2fwww.googleapis.com%2fauth%2fdrive.photos.readonly%20https%3a%2f%2fwww.googleapis.com%2fauth%2fpeopleapi.readonly\n",
            "\n",
            "Enter your authorization code:\n",
            "··········\n",
            "Mounted at /content/drive\n"
          ],
          "name": "stdout"
        }
      ]
    },
    {
      "cell_type": "code",
      "metadata": {
        "id": "P7zFa5RK-7XZ",
        "colab_type": "code",
        "outputId": "3543510f-2954-43ac-d07e-5d6b181e7795",
        "colab": {
          "base_uri": "https://localhost:8080/",
          "height": 84
        }
      },
      "source": [
        "import matplotlib.pyplot as plt\n",
        "import tensorflow as tf\n",
        "%tensorflow_version\n",
        "from tensorflow.keras.preprocessing.image import ImageDataGenerator\n",
        "import math\n",
        "import os\n",
        "import numpy as np\n",
        "import gzip\n",
        "def load_mnist(path,kind='train'):\n",
        "    labels_path = os.path.join(path, '%s-labels-idx1-ubyte.gz' % kind)\n",
        "    images_path = os.path.join(path, '%s-images-idx3-ubyte.gz' % kind)\n",
        "    with gzip.open(labels_path, 'rb') as lbpath:\n",
        "        lbpath.read(8)\n",
        "        buffer = lbpath.read()\n",
        "        labels = np.frombuffer(buffer, dtype=np.uint8)\n",
        "    with gzip.open(images_path, 'rb') as imgpath:\n",
        "        imgpath.read(16)\n",
        "        buffer = imgpath.read()\n",
        "        images = np.frombuffer(buffer, dtype=np.uint8).reshape(len(labels), 28,\n",
        "        28).astype(np.float64)\n",
        "    return images, labels\n",
        "\n",
        "X_train, y_train = load_mnist('/content/drive/My Drive/Colab/my_data/', kind='train')\n",
        "X_test, y_test = load_mnist('/content/drive/My Drive/Colab/my_data/', kind='t10k')\n",
        "class_names = ['0','1','2','3','4','5','6','7','8','9']\n",
        "num_classes = len(class_names)\n",
        "\n",
        "num_train = len(X_train)\n",
        "num_test = len(X_test)\n",
        "X_train = X_train / 255\n",
        "X_train = X_train.reshape((num_train, 28, 28, 1))\n",
        "X_test = X_test / 255\n",
        "X_test = X_test.reshape((num_test, 28, 28, 1))"
      ],
      "execution_count": 0,
      "outputs": [
        {
          "output_type": "stream",
          "text": [
            "Currently selected TF version: 1.x\n",
            "Available versions:\n",
            "* 1.x\n",
            "* 2.x\n"
          ],
          "name": "stdout"
        }
      ]
    },
    {
      "cell_type": "code",
      "metadata": {
        "id": "WYdgqddEBmeR",
        "colab_type": "code",
        "outputId": "1032e0cf-620a-4983-bdff-0a44f7238f1c",
        "colab": {
          "base_uri": "https://localhost:8080/",
          "height": 87
        }
      },
      "source": [
        "model = tf.keras.Sequential([\n",
        "    tf.keras.layers.Flatten(input_shape=(28, 28, 1)),\n",
        "    tf.keras.layers.Dense(128, activation=tf.nn.relu),\n",
        "    tf.keras.layers.Dense(num_classes, activation=tf.nn.softmax)\n",
        "])\n",
        "model.compile(optimizer='adam',\n",
        "              loss='sparse_categorical_crossentropy',\n",
        "              metrics=['accuracy'])\n",
        "\n",
        "BATCH_SIZE = 32\n",
        "train_datagen = ImageDataGenerator()\n",
        "train_generator = train_datagen.flow(X_train, y_train, shuffle=True, batch_size=BATCH_SIZE)\n",
        "test_datagen = ImageDataGenerator()\n",
        "test_generator = test_datagen.flow(X_test, y_test, shuffle=False, batch_size=BATCH_SIZE)"
      ],
      "execution_count": 0,
      "outputs": [
        {
          "output_type": "stream",
          "text": [
            "WARNING:tensorflow:From /usr/local/lib/python3.6/dist-packages/tensorflow_core/python/ops/resource_variable_ops.py:1630: calling BaseResourceVariable.__init__ (from tensorflow.python.ops.resource_variable_ops) with constraint is deprecated and will be removed in a future version.\n",
            "Instructions for updating:\n",
            "If using Keras pass *_constraint arguments to layers.\n"
          ],
          "name": "stdout"
        }
      ]
    },
    {
      "cell_type": "code",
      "metadata": {
        "id": "5ftFeX2oCAjW",
        "colab_type": "code",
        "outputId": "28196d6d-df7b-4246-9d47-97409ae03b83",
        "colab": {
          "base_uri": "https://localhost:8080/",
          "height": 202
        }
      },
      "source": [
        "model.fit_generator(train_generator, epochs=5, steps_per_epoch=math.ceil(num_train/BATCH_SIZE))"
      ],
      "execution_count": 0,
      "outputs": [
        {
          "output_type": "stream",
          "text": [
            "Epoch 1/5\n",
            "1875/1875 [==============================] - 8s 4ms/step - loss: 0.2601 - acc: 0.9251\n",
            "Epoch 2/5\n",
            "1875/1875 [==============================] - 7s 4ms/step - loss: 0.1117 - acc: 0.9675\n",
            "Epoch 3/5\n",
            "1875/1875 [==============================] - 7s 4ms/step - loss: 0.0773 - acc: 0.9776\n",
            "Epoch 4/5\n",
            "1875/1875 [==============================] - 7s 4ms/step - loss: 0.0581 - acc: 0.9825\n",
            "Epoch 5/5\n",
            "1875/1875 [==============================] - 7s 4ms/step - loss: 0.0463 - acc: 0.9852\n"
          ],
          "name": "stdout"
        },
        {
          "output_type": "execute_result",
          "data": {
            "text/plain": [
              "<tensorflow.python.keras.callbacks.History at 0x7f9e0029ec88>"
            ]
          },
          "metadata": {
            "tags": []
          },
          "execution_count": 7
        }
      ]
    },
    {
      "cell_type": "code",
      "metadata": {
        "id": "ZxU8N8FDC6H9",
        "colab_type": "code",
        "outputId": "d65ab156-55a1-4374-d288-6841db96fe19",
        "colab": {
          "base_uri": "https://localhost:8080/",
          "height": 50
        }
      },
      "source": [
        "test_loss, test_accuracy = model.evaluate(test_generator, steps=math.ceil(num_test/32))\n",
        "print('Accuracy on test dataset:', test_accuracy)"
      ],
      "execution_count": 0,
      "outputs": [
        {
          "output_type": "stream",
          "text": [
            "313/313 [==============================] - 1s 2ms/step - loss: 0.0777 - acc: 0.9756\n",
            "Accuracy on test dataset: 0.9756\n"
          ],
          "name": "stdout"
        }
      ]
    },
    {
      "cell_type": "code",
      "metadata": {
        "id": "q8kHcjV5S9wr",
        "colab_type": "code",
        "outputId": "efeb8b8d-81e3-4424-e1b5-1eea624adf84",
        "colab": {
          "base_uri": "https://localhost:8080/",
          "height": 34
        }
      },
      "source": [
        "predictions = model.predict(test_generator)\n",
        "predictions.shape"
      ],
      "execution_count": 0,
      "outputs": [
        {
          "output_type": "execute_result",
          "data": {
            "text/plain": [
              "(10000, 10)"
            ]
          },
          "metadata": {
            "tags": []
          },
          "execution_count": 11
        }
      ]
    },
    {
      "cell_type": "code",
      "metadata": {
        "id": "DhaO9v_STHMM",
        "colab_type": "code",
        "outputId": "a06f8a80-3e3f-4c27-d707-fe97d9cb843f",
        "colab": {
          "base_uri": "https://localhost:8080/",
          "height": 84
        }
      },
      "source": [
        "print(predictions[0])\n",
        "print(\"predict:\", np.argmax(predictions[0]))\n",
        "print(\"answer:\", y_test[0])"
      ],
      "execution_count": 0,
      "outputs": [
        {
          "output_type": "stream",
          "text": [
            "[6.0869763e-07 7.4638279e-10 1.3078007e-05 3.1352050e-05 3.9003462e-12\n",
            " 4.2199272e-08 1.5164618e-13 9.9993396e-01 2.5835723e-07 2.0721591e-05]\n",
            "predict: 7\n",
            "answer: 7\n"
          ],
          "name": "stdout"
        }
      ]
    }
  ]
}